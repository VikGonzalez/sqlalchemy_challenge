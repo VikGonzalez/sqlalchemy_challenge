{
 "cells": [
  {
   "cell_type": "code",
   "execution_count": null,
   "metadata": {},
   "outputs": [],
   "source": [
    "%matplotlib inline\n",
    "from matplotlib import style\n",
    "style.use('fivethirtyeight')\n",
    "import matplotlib.pyplot as plt"
   ]
  },
  {
   "cell_type": "code",
   "execution_count": null,
   "metadata": {},
   "outputs": [],
   "source": [
    "import numpy as np\n",
    "import pandas as pd"
   ]
  },
  {
   "cell_type": "code",
   "execution_count": null,
   "metadata": {},
   "outputs": [],
   "source": [
    "import datetime as dt"
   ]
  },
  {
   "cell_type": "markdown",
   "metadata": {},
   "source": [
    "# Reflect Tables into SQLAlchemy ORM"
   ]
  },
  {
   "cell_type": "code",
   "execution_count": null,
   "metadata": {},
   "outputs": [],
   "source": [
    "# Python SQL toolkit and Object Relational Mapper\n",
    "import sqlalchemy\n",
    "from sqlalchemy.ext.automap import automap_base\n",
    "from sqlalchemy.orm import Session\n",
    "from sqlalchemy import create_engine, func, inspect\n",
    "from datetime import datetime, date, timedelta"
   ]
  },
  {
   "cell_type": "code",
   "execution_count": null,
   "metadata": {},
   "outputs": [],
   "source": [
    "engine = create_engine(\"sqlite:///Resources/hawaii.sqlite\")\n",
    "\n",
    "Base = automap_base()"
   ]
  },
  {
   "cell_type": "code",
   "execution_count": null,
   "metadata": {},
   "outputs": [],
   "source": [
    "# reflect an existing database into a new model\n",
    "Base = automap_base()\n",
    "# reflect the tables\n",
    "Base.prepare(engine, reflect= True)"
   ]
  },
  {
   "cell_type": "code",
   "execution_count": null,
   "metadata": {},
   "outputs": [],
   "source": [
    "# Save references to each table\n",
    "Measurement = Base.classes.measurement\n",
    "\n",
    "Station = Base.classes.station"
   ]
  },
  {
   "cell_type": "code",
   "execution_count": null,
   "metadata": {},
   "outputs": [],
   "source": [
    "# Create our session (link) from Python to the DB\n",
    "session = Session(engine)"
   ]
  },
  {
   "cell_type": "code",
   "execution_count": null,
   "metadata": {},
   "outputs": [],
   "source": [
    "Base.classes.keys()\n",
    "\n",
    "Measurement = Base.classes.measurement"
   ]
  },
  {
   "cell_type": "code",
   "execution_count": null,
   "metadata": {},
   "outputs": [],
   "source": [
    "Measurement = session.query(Measurement).first()\n",
    "Measurement.__dict__"
   ]
  },
  {
   "cell_type": "code",
   "execution_count": null,
   "metadata": {},
   "outputs": [],
   "source": [
    "columns = inspector.get_columns('measurement')\n",
    "\n",
    "for column in columns:\n",
    "    print(f\"{column['name']} {column['type']}\")\n",
    "    "
   ]
  },
  {
   "cell_type": "code",
   "execution_count": null,
   "metadata": {},
   "outputs": [],
   "source": [
    "QueryM = session.query(Measurement.id, Measurement.station, Measurement.date, Measurement.prcp,)"
   ]
  },
  {
   "cell_type": "code",
   "execution_count": null,
   "metadata": {},
   "outputs": [],
   "source": [
    "columns = inspector.get_columns('station')\n",
    "\n",
    "for column in columns:\n",
    "    print(f\"{column['name']} {column['type']}\")\n",
    "    "
   ]
  },
  {
   "cell_type": "code",
   "execution_count": null,
   "metadata": {},
   "outputs": [],
   "source": [
    "QueryS = session.query(Station.id, Station.station, Station.name, Station.latitude, Station.longitude)\n",
    "QueryS = pd.DataFrame(QueryS)\n",
    "QueryS\n",
    "QuerySC = QueryS.dropna()\n",
    "QuerySC\n"
   ]
  },
  {
   "cell_type": "markdown",
   "metadata": {},
   "source": [
    "# Exploratory Climate Analysis"
   ]
  },
  {
   "cell_type": "code",
   "execution_count": null,
   "metadata": {},
   "outputs": [],
   "source": [
    "# Design a query to retrieve the last 12 months of precipitation data and plot the results\n",
    "# Calculate the date 1 year ago from the last data point in the database\n",
    "# Perform a query to retrieve the data and precipitation scores\n",
    "query= session.query(measurement.date, measurement.prcp).\\filter(measurement.date > query_date).\\order_by(measurement.date).all()\n",
    "\n",
    "\n",
    "# Save the query results as a Pandas DataFrame and set the index to the date column\n",
    "rain_df = pd.DataFrame(query).set_index('date')\n",
    "\n",
    "\n",
    "# Sort the dataframe by date\n",
    "rain_df = rain_df.sort_values(by='date')\n",
    "\n"
   ]
  },
  {
   "cell_type": "code",
   "execution_count": null,
   "metadata": {},
   "outputs": [],
   "source": [
    "rain_df = rain_df.dropna()"
   ]
  },
  {
   "cell_type": "code",
   "execution_count": null,
   "metadata": {},
   "outputs": [],
   "source": [
    "# Use Pandas Plotting with Matplotlib to plot the data\n",
    "rain_df.plot(kind='line', rot =90)\n",
    "\n",
    "plt.xlabel('Date')\n",
    "plt.ylabel('inches')\n",
    "plt.legend(loc=\"best\")\n",
    "plt.show()"
   ]
  },
  {
   "cell_type": "code",
   "execution_count": null,
   "metadata": {},
   "outputs": [],
   "source": [
    "# Use Pandas to calcualte the summary statistics for the precipitation data\n",
    "rain_df.describe()"
   ]
  },
  {
   "cell_type": "code",
   "execution_count": null,
   "metadata": {},
   "outputs": [],
   "source": [
    "# Design a query to show how many stations are available in this dataset?\n",
    "query_stations= session.query(measurement.station).distinct().all()\n",
    "query_stations"
   ]
  },
  {
   "cell_type": "code",
   "execution_count": null,
   "metadata": {},
   "outputs": [],
   "source": [
    "# What are the most active stations? (i.e. what stations have the most rows)?\n",
    "# List the stations and the counts in descending order.\n",
    "active_stations=sessions.query(measurement.station,\n",
    "    func.count(measurement.id).label('qty')\n",
    "    ).group_by(measurement.station).order_by('qty')).all()"
   ]
  },
  {
   "cell_type": "code",
   "execution_count": null,
   "metadata": {},
   "outputs": [],
   "source": [
    "# Using the station id from the previous query, calculate the lowest temperature recorded, \n",
    "# highest temperature recorded, and average temperature of the most active station?\n",
    "high_temp = session.query(func.max(measurement.tobs).\\\n",
    "                          filter(measurement.station == active_stations[0][0])).all()\n",
    "low_temp = session.query(func.min(measurement.tobs).\\\n",
    "                          filter(measurement.station == active_stations[0][0])).all()\n",
    "avg_temp = session.query(func.avg(measurement.tobs).\\\n",
    "                          filter(measurement.station == active_stations[0][0])).all()"
   ]
  },
  {
   "cell_type": "code",
   "execution_count": null,
   "metadata": {},
   "outputs": [],
   "source": [
    "temperatures:df = pd.DataFrame({\n",
    "    \"Most Active Station\": active_stations[0][0],\n",
    "    \"Highest Temperature\": high_temp[0][0],\n",
    "    \"Lowest Tempreature\": low_temp[0][0],\n",
    "    \"Average Temperature\": avg_temp[0][0]\n",
    "})"
   ]
  },
  {
   "cell_type": "code",
   "execution_count": null,
   "metadata": {},
   "outputs": [],
   "source": [
    "# Choose the station with the highest number of temperature observations.\n",
    "active_stations_temp=session.query(measurement.station,\n",
    "                                  func.count(measurement.tobs).label('qty')\n",
    "                                  ).group_by(measurement.station\n",
    "                                  ).order_by(desc('qty')).all()"
   ]
  },
  {
   "cell_type": "code",
   "execution_count": null,
   "metadata": {},
   "outputs": [],
   "source": [
    "\n",
    "\n",
    "# Query the last 12 months of temperature observation data for this station and \n",
    "active_temp = sessions.query(measurement.tobs).label).\\ \n",
    "    filter(measurement.date > query_date).\\\n",
    "    filter(measurement.station == active_stations_temp[0][0]).all()\n",
    "\n",
    "flat_list = []\n",
    "for sulist in active_temp:\n",
    "    for item in sublist:\n",
    "        flat_list.append(item)\n",
    "active_temp = flat_list        \n",
    "        \n",
    "# plot the results as a histogram                                  \n",
    "plt.hist(active_temp, bins = 12, label= 'tobs')\n",
    "plt.xlabel('Temperature')\n",
    "plt.ylabel('Frequency')\n",
    "plt.legend(loc='best')\n",
    "plt.show"
   ]
  },
  {
   "cell_type": "markdown",
   "metadata": {},
   "source": [
    "\n",
    "## Bonus Challenge Assignment"
   ]
  },
  {
   "cell_type": "code",
   "execution_count": null,
   "metadata": {},
   "outputs": [],
   "source": [
    "# This function called `calc_temps` will accept start date and end date in the format '%Y-%m-%d' \n",
    "# and return the minimum, average, and maximum temperatures for that range of dates\n",
    "def calc_temps(start_date, end_date):\n",
    "    \"\"\"TMIN, TAVG, and TMAX for a list of dates.   \n",
    "    Args:\n",
    "        start_date (string): A date string in the format %Y-%m-%d\n",
    "        end_date (string): A date string in the format %Y-%m-%d       \n",
    "    Returns:\n",
    "        TMIN, TAVE, and TMAX\n",
    "    \"\"\"\n",
    "    return session.query(func.min(Measurement.tobs), func.avg(Measurement.tobs), func.max(Measurement.tobs)).\\\n",
    "        filter(Measurement.date >= start_date).filter(Measurement.date <= end_date).all()\n",
    "\n",
    "# function usage example\n",
    "print(calc_temps('2012-02-28', '2012-03-05'))"
   ]
  },
  {
   "cell_type": "code",
   "execution_count": null,
   "metadata": {},
   "outputs": [],
   "source": [
    "# Use your previous function `calc_temps` to calculate the tmin, tavg, and tmax \n",
    "# for your trip using the previous year's data for those same dates.\n",
    "\n",
    "ID2 = np.datetime64(ID) - np.timedelta64(365,'D')\n",
    "FD2 = np.datetime64(ID) - np.timedelta64(365,'D')\n",
    "\n",
    "if FD2 < ID2:\n",
    "    print(\"Last date {FD} must be higher than Initial Date {ID}\")\n",
    "else: qry3 = session.query(func.max(Measurement.tobs).filter(Measurement.date > ID2).filter(Measurement))\n",
    "    \n"
   ]
  },
  {
   "cell_type": "code",
   "execution_count": null,
   "metadata": {},
   "outputs": [],
   "source": [
    "# Plot the results from your previous query as a bar chart. \n",
    "# Use \"Trip Avg Temp\" as your Title\n",
    "# Use the average temperature for the y value\n",
    "# Use the peak-to-peak (tmax-tmin) value as the y error bar (yerr)\n"
   ]
  },
  {
   "cell_type": "code",
   "execution_count": null,
   "metadata": {},
   "outputs": [],
   "source": [
    "# Calculate the total amount of rainfall per weather station for your trip dates using the previous year's matching dates.\n",
    "# Sort this in descending order by precipitation amount and list the station, name, latitude, longitude, and elevation\n",
    "\n"
   ]
  },
  {
   "cell_type": "code",
   "execution_count": null,
   "metadata": {},
   "outputs": [],
   "source": [
    "# Create a query that will calculate the daily normals \n",
    "# (i.e. the averages for tmin, tmax, and tavg for all historic data matching a specific month and day)\n",
    "\n",
    "date = f\"{Mon}-{Day}\"\n",
    "date = Date.format('datetime64[ns]')\n",
    "\n",
    "def daily_normals(date):\n",
    "    \"\"\"Daily Normals.\n",
    "    Args:\n",
    "        date (str): A date string in the format '%m-%d'\n",
    "    Returns:\n",
    "        A list of tuples containing the daily normals, tmin, tavg, and tmax\n",
    "    \"\"\"\n",
    "    \n",
    "    sel = [func.min(Measurement.tobs), func.avg(Measurement.tobs), func.max(Measurement.tobs)]\n",
    "    return session.query(*sel).filter(func.strftime(\"%m-%d\", Measurement.date) == date).all()\n",
    "    \n",
    "daily_normals(\"01-01\")"
   ]
  },
  {
   "cell_type": "code",
   "execution_count": null,
   "metadata": {},
   "outputs": [],
   "source": [
    "# calculate the daily normals for your trip\n",
    "# push each tuple of calculations into a list called `normals`\n",
    "\n",
    "# Set the start and end date of the trip\n",
    "\n",
    "SD = \"2017-01-01\"\n",
    "ED = \"2016-01-01\"\n",
    "\n",
    "SD = date.fromisoformat (SD)\n",
    "ED = date.fromisoformat (ED)\n",
    "\n",
    "#número de días\n",
    "numdays = ED - SD\n",
    "\n",
    "# Use the start and end date to create a range of dates\n",
    "date_list = []\n",
    "for x in range (0, numdays.days):\n",
    "    date_list.append(ED - dt.timedelta(days = x))\n",
    "    \n",
    "Dates = pd.DataFrame(date_list)\n",
    "Dates = Dates.rename(columns={0: \"Dates\"})\n",
    "  \n",
    "\n",
    "\n",
    "# Stip off the year and save a list of %m-%d strings\n",
    "Dates [\"Month\"] = pd.Datetime.index(Dates['Dates']).month\n",
    "Dates [\"Days\"] = pd.Datetime.index(Dates['Dates']).day\n",
    "    \n",
    "#  \n",
    "#Loop through the list of %m-%d strings and calculate the normals for each date\n",
    "loop_list = []\n",
    "for i in range(0, len(Dates)):\n",
    "    M = Dates.iloc[i][\"Month\"]\n",
    "    D = Dates.iloc[i][\"Days\"]\n",
    "    \n",
    "    if M < 10:\n",
    "        M = f\"0{M}\"\n",
    "        if D < 10:\n",
    "            D = f\"0{D}\"\n",
    "            \n",
    "    else:\n",
    "        if D <10:\n",
    "            D = f\"0{D}\"\n",
    "            \n",
    "    Date2 = f\"{M} - {D}\"\n",
    "    loop_list.append(daily_normals(Date2))\n",
    "    \n",
    "df = pd.DataFrame(loop_list)\n",
    "df\n"
   ]
  }
 ],
 "metadata": {
  "kernel_info": {
   "name": "python3"
  },
  "kernelspec": {
   "display_name": "Python 3",
   "language": "python",
   "name": "python3"
  },
  "language_info": {
   "codemirror_mode": {
    "name": "ipython",
    "version": 3
   },
   "file_extension": ".py",
   "mimetype": "text/x-python",
   "name": "python",
   "nbconvert_exporter": "python",
   "pygments_lexer": "ipython3",
   "version": "3.7.6"
  },
  "nteract": {
   "version": "0.12.3"
  },
  "varInspector": {
   "cols": {
    "lenName": 16,
    "lenType": 16,
    "lenVar": 40
   },
   "kernels_config": {
    "python": {
     "delete_cmd_postfix": "",
     "delete_cmd_prefix": "del ",
     "library": "var_list.py",
     "varRefreshCmd": "print(var_dic_list())"
    },
    "r": {
     "delete_cmd_postfix": ") ",
     "delete_cmd_prefix": "rm(",
     "library": "var_list.r",
     "varRefreshCmd": "cat(var_dic_list()) "
    }
   },
   "types_to_exclude": [
    "module",
    "function",
    "builtin_function_or_method",
    "instance",
    "_Feature"
   ],
   "window_display": false
  }
 },
 "nbformat": 4,
 "nbformat_minor": 2
}
