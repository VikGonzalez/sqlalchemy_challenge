{
 "cells": [
  {
   "cell_type": "code",
   "execution_count": 2,
   "metadata": {},
   "outputs": [],
   "source": [
    "%matplotlib inline\n",
    "from matplotlib import style\n",
    "style.use('fivethirtyeight')\n",
    "import matplotlib.pyplot as plt\n",
    "import matplotlib.ticker as ticker"
   ]
  },
  {
   "cell_type": "code",
   "execution_count": 3,
   "metadata": {},
   "outputs": [],
   "source": [
    "import numpy as np\n",
    "import pandas as pd"
   ]
  },
  {
   "cell_type": "code",
   "execution_count": 4,
   "metadata": {},
   "outputs": [],
   "source": [
    "import datetime as dt"
   ]
  },
  {
   "cell_type": "markdown",
   "metadata": {},
   "source": [
    "# Reflect Tables into SQLAlchemy ORM"
   ]
  },
  {
   "cell_type": "code",
   "execution_count": 5,
   "metadata": {},
   "outputs": [],
   "source": [
    "# Python SQL toolkit and Object Relational Mapper\n",
    "import sqlalchemy\n",
    "from sqlalchemy.ext.automap import automap_base\n",
    "from sqlalchemy.orm import Session\n",
    "from sqlalchemy import create_engine, func, inspect\n",
    "from datetime import datetime, date, timedelta\n",
    "from scipy import stats"
   ]
  },
  {
   "cell_type": "code",
   "execution_count": 6,
   "metadata": {},
   "outputs": [],
   "source": [
    "engine = create_engine(\"sqlite:///Resources/hawaii.sqlite\")\n"
   ]
  },
  {
   "cell_type": "code",
   "execution_count": 7,
   "metadata": {},
   "outputs": [
    {
     "data": {
      "text/plain": [
       "['measurement', 'station']"
      ]
     },
     "execution_count": 7,
     "metadata": {},
     "output_type": "execute_result"
    }
   ],
   "source": [
    "# Use the Inspector to explore the database and print the table names\n",
    "inspector = inspect(engine)\n",
    "inspector.get_table_names()"
   ]
  },
  {
   "cell_type": "code",
   "execution_count": 8,
   "metadata": {},
   "outputs": [],
   "source": [
    "# reflect an existing database into a new model\n",
    "Base = automap_base()\n",
    "# reflect the tables\n",
    "Base.prepare(engine, reflect= True)"
   ]
  },
  {
   "cell_type": "code",
   "execution_count": 9,
   "metadata": {},
   "outputs": [
    {
     "name": "stdout",
     "output_type": "stream",
     "text": [
      "id INTEGER\n",
      "station TEXT\n",
      "name TEXT\n",
      "latitude FLOAT\n",
      "longitude FLOAT\n",
      "elevation FLOAT\n"
     ]
    }
   ],
   "source": [
    "columns = inspector.get_columns(\"station\")\n",
    "for column in columns:\n",
    "    print(column[\"name\"], column[\"type\"])"
   ]
  },
  {
   "cell_type": "code",
   "execution_count": 10,
   "metadata": {},
   "outputs": [
    {
     "data": {
      "text/plain": [
       "['measurement', 'station']"
      ]
     },
     "execution_count": 10,
     "metadata": {},
     "output_type": "execute_result"
    }
   ],
   "source": [
    "Base = automap_base()\n",
    "\n",
    "Base.prepare(engine, reflect=True)\n",
    "\n",
    "Base.classes.keys()"
   ]
  },
  {
   "cell_type": "code",
   "execution_count": 11,
   "metadata": {},
   "outputs": [],
   "source": [
    "Measurement = Base.classes.measurement\n",
    "Station = Base.classes.station"
   ]
  },
  {
   "cell_type": "code",
   "execution_count": 12,
   "metadata": {},
   "outputs": [],
   "source": [
    "session = Session(engine)"
   ]
  },
  {
   "cell_type": "markdown",
   "metadata": {},
   "source": [
    "# Exploratory Climate Analysis"
   ]
  },
  {
   "cell_type": "code",
   "execution_count": 13,
   "metadata": {},
   "outputs": [
    {
     "data": {
      "text/plain": [
       "{'_sa_instance_state': <sqlalchemy.orm.state.InstanceState at 0x25149ab2288>,\n",
       " 'date': '2010-01-01',\n",
       " 'tobs': 65.0,\n",
       " 'station': 'USC00519397',\n",
       " 'prcp': 0.08,\n",
       " 'id': 1}"
      ]
     },
     "execution_count": 13,
     "metadata": {},
     "output_type": "execute_result"
    }
   ],
   "source": [
    "first_row = session.query(Measurement).first()\n",
    "first_row.__dict__"
   ]
  },
  {
   "cell_type": "code",
   "execution_count": 14,
   "metadata": {},
   "outputs": [],
   "source": [
    "latest_date = (\n",
    "                session\n",
    "                .query(Measurement.date)\n",
    "                .order_by(Measurement.date.desc())\n",
    "                .first()\n",
    "                ._asdict()\n",
    "                )"
   ]
  },
  {
   "cell_type": "code",
   "execution_count": 15,
   "metadata": {},
   "outputs": [],
   "source": [
    "latest_date_f = dt.datetime.strptime(latest_date['date'],'%Y-%m-%d')\n",
    "start_date = dt.date(latest_date_f.year -1,latest_date_f.month, latest_date_f.day)"
   ]
  },
  {
   "cell_type": "code",
   "execution_count": 16,
   "metadata": {},
   "outputs": [],
   "source": [
    "start_date_fmt = f\"{start_date.year}-{'{:02d}'.format(start_date.month)}-{'{:02d}'.format(start_date.day)}\""
   ]
  },
  {
   "cell_type": "code",
   "execution_count": 17,
   "metadata": {},
   "outputs": [
    {
     "name": "stdout",
     "output_type": "stream",
     "text": [
      "Latest date on the database is: 2017-08-23\n",
      "Query will start 1 year before this latest date. Query starts on: 2016-08-23\n"
     ]
    }
   ],
   "source": [
    "print(f\"Latest date on the database is: {latest_date['date']}\")\n",
    "print(f'Query will start 1 year before this latest date. Query starts on: {start_date_fmt}')"
   ]
  },
  {
   "cell_type": "code",
   "execution_count": 18,
   "metadata": {},
   "outputs": [],
   "source": [
    "# Design a query to retrieve the last 12 months of precipitation data and plot the results\n",
    "lastYear = (\n",
    "                session\n",
    "                .query(Measurement.date, Measurement.prcp)\n",
    "                .filter(Measurement.date >= start_date)\n",
    "                .filter(Measurement.date <= latest_date['date'])\n",
    "                .order_by(Measurement.date.asc())\n",
    "                .all()\n",
    ")"
   ]
  },
  {
   "cell_type": "code",
   "execution_count": 19,
   "metadata": {},
   "outputs": [],
   "source": [
    "prcp_df = (\n",
    "            pd\n",
    "            .DataFrame(lastYear)\n",
    "            .set_index('date')\n",
    ")"
   ]
  },
  {
   "cell_type": "code",
   "execution_count": 20,
   "metadata": {},
   "outputs": [
    {
     "data": {
      "image/png": "[encoded data removed]",
      "text/plain": [
       "<Figure size 432x288 with 1 Axes>"
      ]
     },
     "metadata": {},
     "output_type": "display_data"
    },
    {
     "data": {
      "text/plain": [
       "<Figure size 432x288 with 0 Axes>"
      ]
     },
     "metadata": {},
     "output_type": "display_data"
    }
   ],
   "source": [
    "# Use Pandas Plotting with Matplotlib to plot the data\n",
    "prcp_df.plot(kind='line', rot =90)\n",
    "\n",
    "plt.xlabel('Date')\n",
    "plt.ylabel('inches')\n",
    "plt.legend(loc=\"best\")\n",
    "plt.show()\n",
    "plt.savefig(\"Historical Precipitation(Inches).png\")"
   ]
  },
  {
   "cell_type": "code",
   "execution_count": 20,
   "metadata": {},
   "outputs": [
    {
     "data": {
      "text/html": [
       "<div>\n",
       "<style scoped>\n",
       "    .dataframe tbody tr th:only-of-type {\n",
       "        vertical-align: middle;\n",
       "    }\n",
       "\n",
       "    .dataframe tbody tr th {\n",
       "        vertical-align: top;\n",
       "    }\n",
       "\n",
       "    .dataframe thead th {\n",
       "        text-align: right;\n",
       "    }\n",
       "</style>\n",
       "<table border=\"1\" class=\"dataframe\">\n",
       "  <thead>\n",
       "    <tr style=\"text-align: right;\">\n",
       "      <th></th>\n",
       "      <th>prcp</th>\n",
       "    </tr>\n",
       "  </thead>\n",
       "  <tbody>\n",
       "    <tr>\n",
       "      <th>count</th>\n",
       "      <td>2021.000000</td>\n",
       "    </tr>\n",
       "    <tr>\n",
       "      <th>mean</th>\n",
       "      <td>0.177279</td>\n",
       "    </tr>\n",
       "    <tr>\n",
       "      <th>std</th>\n",
       "      <td>0.461190</td>\n",
       "    </tr>\n",
       "    <tr>\n",
       "      <th>min</th>\n",
       "      <td>0.000000</td>\n",
       "    </tr>\n",
       "    <tr>\n",
       "      <th>25%</th>\n",
       "      <td>0.000000</td>\n",
       "    </tr>\n",
       "    <tr>\n",
       "      <th>50%</th>\n",
       "      <td>0.020000</td>\n",
       "    </tr>\n",
       "    <tr>\n",
       "      <th>75%</th>\n",
       "      <td>0.130000</td>\n",
       "    </tr>\n",
       "    <tr>\n",
       "      <th>max</th>\n",
       "      <td>6.700000</td>\n",
       "    </tr>\n",
       "  </tbody>\n",
       "</table>\n",
       "</div>"
      ],
      "text/plain": [
       "              prcp\n",
       "count  2021.000000\n",
       "mean      0.177279\n",
       "std       0.461190\n",
       "min       0.000000\n",
       "25%       0.000000\n",
       "50%       0.020000\n",
       "75%       0.130000\n",
       "max       6.700000"
      ]
     },
     "execution_count": 20,
     "metadata": {},
     "output_type": "execute_result"
    }
   ],
   "source": [
    "# Use Pandas to calcualte the summary statistics for the precipitation data\n",
    "prcp_df.describe()"
   ]
  },
  {
   "cell_type": "code",
   "execution_count": 21,
   "metadata": {},
   "outputs": [
    {
     "name": "stdout",
     "output_type": "stream",
     "text": [
      "[('USC00519397',), ('USC00513117',), ('USC00514830',), ('USC00517948',), ('USC00518838',), ('USC00519523',), ('USC00519281',), ('USC00511918',), ('USC00516128',)] different weather stations are used to make precipitation measurements\n"
     ]
    }
   ],
   "source": [
    "# Design a query to show how many stations are available in this dataset?\n",
    "query_stations= session.query(Measurement.station).distinct().all()\n",
    "query_stations\n",
    "print(f\"{query_stations} different weather stations are used to make precipitation measurements\")"
   ]
  },
  {
   "cell_type": "code",
   "execution_count": 23,
   "metadata": {},
   "outputs": [
    {
     "data": {
      "text/plain": [
       "[('USC00519281', 'WAIHEE 837.5, HI US', 2772),\n",
       " ('USC00519397', 'WAIKIKI 717.2, HI US', 2724),\n",
       " ('USC00513117', 'KANEOHE 838.1, HI US', 2709),\n",
       " ('USC00519523', 'WAIMANALO EXPERIMENTAL FARM, HI US', 2669),\n",
       " ('USC00516128', 'MANOA LYON ARBO 785.2, HI US', 2612),\n",
       " ('USC00514830', 'KUALOA RANCH HEADQUARTERS 886.9, HI US', 2202),\n",
       " ('USC00511918', 'HONOLULU OBSERVATORY 702.2, HI US', 1979),\n",
       " ('USC00517948', 'PEARL CITY, HI US', 1372),\n",
       " ('USC00518838', 'UPPER WAHIAWA 874.3, HI US', 511)]"
      ]
     },
     "execution_count": 23,
     "metadata": {},
     "output_type": "execute_result"
    }
   ],
   "source": [
    "activeStations = ( \n",
    "               session\n",
    "              .query(Measurement.station, Station.name, func.count(Measurement.station))\n",
    "              .group_by(Measurement.station)\n",
    "              .join(Station, Measurement.station == Station.station)\n",
    "              .order_by(func.count(Measurement.station).desc())\n",
    "              .all()\n",
    "              )\n",
    "activeStations"
   ]
  },
  {
   "cell_type": "code",
   "execution_count": 24,
   "metadata": {},
   "outputs": [],
   "source": [
    "# Using the station id from the previous query, calculate the lowest temperature recorded, \n",
    "# highest temperature recorded, and average temperature of the most active station?\n",
    "high_temp = session.query(func.max(Measurement.tobs).\\\n",
    "                          filter(Measurement.station == activeStations[0][0])).all()\n",
    "low_temp = session.query(func.min(Measurement.tobs).\\\n",
    "                          filter(Measurement.station == activeStations[0][0])).all()\n",
    "avg_temp = session.query(func.avg(Measurement.tobs).\\\n",
    "                          filter(Measurement.station == activeStations[0][0])).all()"
   ]
  },
  {
   "cell_type": "code",
   "execution_count": 28,
   "metadata": {},
   "outputs": [
    {
     "name": "stdout",
     "output_type": "stream",
     "text": [
      "The most active weather station is USC00519281(WAIHEE 837.5, HI US) with 2772 measurements made\n"
     ]
    }
   ],
   "source": [
    "# Choose the station with the highest number of temperature observations.\n",
    "activeStation = activeStations[0]\n",
    "print(f\"The most active weather station is {activeStation[0]}({activeStation[1]}) with {activeStation[2]} measurements made\")"
   ]
  },
  {
   "cell_type": "code",
   "execution_count": 21,
   "metadata": {},
   "outputs": [
    {
     "data": {
      "image/png": "[encoded data removed]",
      "text/plain": [
       "<Figure size 432x288 with 1 Axes>"
      ]
     },
     "metadata": {},
     "output_type": "display_data"
    }
   ],
   "source": [
    "# Query the last 12 months of temperature observation data for this station and \n",
    "active_temp = session.query(Measurement.tobs)\n",
    "\n",
    "\n",
    "flat_list = []\n",
    "for sublist in active_temp:\n",
    "    for item in sublist:\n",
    "        flat_list.append(item)\n",
    "active_temp = flat_list        \n",
    "        \n",
    "# plot the results as a histogram                                  \n",
    "plt.hist(active_temp, bins = 12, label= 'tobs')\n",
    "plt.xlabel('Temperature')\n",
    "plt.ylabel('Frequency')\n",
    "plt.legend(loc='best')\n",
    "plt.show\n",
    "plt.savefig(\"Frequency vs Temperature Last 12 Months.png\")"
   ]
  },
  {
   "cell_type": "markdown",
   "metadata": {},
   "source": [
    "\n",
    "## Bonus Challenge Assignment"
   ]
  },
  {
   "cell_type": "code",
   "execution_count": 23,
   "metadata": {},
   "outputs": [
    {
     "name": "stdout",
     "output_type": "stream",
     "text": [
      "[(62.0, 69.57142857142857, 74.0)]\n"
     ]
    }
   ],
   "source": [
    "# This function called `calc_temps` will accept start date and end date in the format '%Y-%m-%d' \n",
    "# and return the minimum, average, and maximum temperatures for that range of dates\n",
    "def calc_temps(start_date, end_date):\n",
    "    \"\"\"TMIN, TAVG, and TMAX for a list of dates.\n",
    "    \n",
    "    Args:\n",
    "        start_date (string): A date string in the format %Y-%m-%d\n",
    "        end_date (string): A date string in the format %Y-%m-%d\n",
    "        \n",
    "    Returns:\n",
    "        TMIN, TAVE, and TMAX\n",
    "    \"\"\"\n",
    "    \n",
    "    return session.query(func.min(Measurement.tobs), func.avg(Measurement.tobs), func.max(Measurement.tobs)).\\\n",
    "        filter(Measurement.date >= start_date).filter(Measurement.date <= end_date).all()\n",
    "\n",
    "# function usage example\n",
    "print(calc_temps('2012-02-28', '2012-03-05'))"
   ]
  },
  {
   "cell_type": "code",
   "execution_count": 24,
   "metadata": {},
   "outputs": [
    {
     "name": "stdout",
     "output_type": "stream",
     "text": [
      "When is your vacation starting? ('YYYY-MM-DD'): 2020-09-09\n",
      "When is your vacation coming to an end? ('YYYY-MM-DD'): 2020-09-16\n",
      "\n",
      "Last year's data was not found. Going back 2 year(s)...\n",
      "\n",
      "Last year's data was not found. Going back 3 year(s)...\n",
      "\n",
      "Last year's data was not found. Going back 4 year(s)...\n",
      "\n",
      "For a vacation starting on 2020-09-09, ending on 2020-09-16, the following data is available:\n",
      "Data from 4 years ago, (2016-09-09 to 2016-09-16):\n",
      "Minimum Temperature: 71.0 deg F\n",
      "Maximum Temperature: 83.0 deg F\n",
      "Average Temperature: 77.19 deg F\n"
     ]
    }
   ],
   "source": [
    "# Use your previous function `calc_temps` to calculate the tmin, tavg, and tmax \n",
    "# for your trip using the previous year's data for those same dates.\n",
    "\n",
    "# Request user to input vacation dates\n",
    "trip_startDate = input(\"When is your vacation starting? ('YYYY-MM-DD'): \")\n",
    "trip_endDate = input(\"When is your vacation coming to an end? ('YYYY-MM-DD'): \")\n",
    "\n",
    "# Calculate last year's date\n",
    "trip_startDate_f = dt.datetime.strptime(trip_startDate,'%Y-%m-%d')\n",
    "trip_endDate_f = dt.datetime.strptime(trip_endDate,'%Y-%m-%d')\n",
    "prevYearStart = dt.date(trip_startDate_f.year -1,trip_startDate_f.month, trip_startDate_f.day)\n",
    "prevYearEnd = dt.date(trip_endDate_f.year -1,trip_endDate_f.month, trip_endDate_f.day)\n",
    "\n",
    "\n",
    "# Request last year's weather data\n",
    "reqData = calc_temps(prevYearStart,prevYearEnd)\n",
    "\n",
    "# If last year's data is not available, then go back enough years to get \n",
    "# valid data for the inputted dates\n",
    "\n",
    "# Initialize variables\n",
    "factor = 1\n",
    "\n",
    "# While weather data is invalid, keep going back an extra year until valid seasonal data can be retrieved\n",
    "while reqData[0][0] == None:\n",
    "        factor +=1\n",
    "        print(f\"\\nLast year's data was not found. Going back {factor} year(s)...\")\n",
    "        prevYearStart = dt.date(trip_startDate_f.year -factor,trip_startDate_f.month, trip_startDate_f.day)\n",
    "        prevYearEnd = dt.date(trip_endDate_f.year -factor,trip_endDate_f.month, trip_endDate_f.day)\n",
    "        reqData = calc_temps(prevYearStart,prevYearEnd)\n",
    "\n",
    "# Format dates\n",
    "prevYearStart_f = f\"{prevYearStart.year}-{'{:02d}'.format(prevYearStart.month)}-{'{:02d}'.format(prevYearStart.day)}\"\n",
    "prevYearEnd_f = f\"{prevYearEnd.year}-{'{:02d}'.format(prevYearEnd.month)}-{'{:02d}'.format(prevYearEnd.day)}\"\n",
    "minReqData = round(reqData[0][0],2)\n",
    "avgReqData = round(reqData[0][1],2)\n",
    "maxReqData = round(reqData[0][2],2)\n",
    "\n",
    "# Print results to screen\n",
    "print(f\"\\nFor a vacation starting on {trip_startDate}, ending on {trip_endDate}, the following data is available:\")\n",
    "print(f\"Data from {factor} years ago, ({prevYearStart_f} to {prevYearEnd_f}):\")\n",
    "print(f'''Minimum Temperature: {minReqData} deg F\n",
    "Maximum Temperature: {maxReqData} deg F\n",
    "Average Temperature: {avgReqData} deg F''')   \n"
   ]
  },
  {
   "cell_type": "code",
   "execution_count": 25,
   "metadata": {
    "scrolled": true
   },
   "outputs": [
    {
     "data": {
      "image/png": "[encoded data removed]",
      "text/plain": [
       "<Figure size 144x360 with 1 Axes>"
      ]
     },
     "metadata": {},
     "output_type": "display_data"
    },
    {
     "data": {
      "text/plain": [
       "<Figure size 432x288 with 0 Axes>"
      ]
     },
     "metadata": {},
     "output_type": "display_data"
    }
   ],
   "source": [
    "# Plot the results from your previous query as a bar chart. \n",
    "# Use \"Trip Avg Temp\" as your Title\n",
    "# Use the average temperature for the y value\n",
    "# Use the peak-to-peak (tmax-tmin) value as the y error bar (yerr)\n",
    "yerr = np.array([avgReqData-minReqData,maxReqData-avgReqData])\n",
    "plt.figure(figsize=(2,5))\n",
    "plt.bar(1,\n",
    "        reqData[0][2],\n",
    "        yerr=yerr.reshape(2,1),\n",
    "        color=\"salmon\",\n",
    "        edgecolor=\"grey\")\n",
    "\n",
    "# Format bar graph\n",
    "plt.title(\"Trip Avg Temp\", fontweight='bold')\n",
    "plt.ylabel('temperature (deg F)')\n",
    "plt.xlim(0,2)\n",
    "plt.ylim(0,100)\n",
    "plt.xticks([])\n",
    "\n",
    "# Display plot\n",
    "plt.show()\n",
    "plt.savefig(\"tmin, tavg, and tmax for my Vacations.png\")"
   ]
  },
  {
   "cell_type": "code",
   "execution_count": 26,
   "metadata": {},
   "outputs": [
    {
     "data": {
      "text/html": [
       "<div>\n",
       "<style scoped>\n",
       "    .dataframe tbody tr th:only-of-type {\n",
       "        vertical-align: middle;\n",
       "    }\n",
       "\n",
       "    .dataframe tbody tr th {\n",
       "        vertical-align: top;\n",
       "    }\n",
       "\n",
       "    .dataframe thead th {\n",
       "        text-align: right;\n",
       "    }\n",
       "</style>\n",
       "<table border=\"1\" class=\"dataframe\">\n",
       "  <thead>\n",
       "    <tr style=\"text-align: right;\">\n",
       "      <th></th>\n",
       "      <th>Station</th>\n",
       "      <th>Station Name</th>\n",
       "      <th>Lat</th>\n",
       "      <th>Lon</th>\n",
       "      <th>Elv</th>\n",
       "      <th>Total Prcp</th>\n",
       "    </tr>\n",
       "  </thead>\n",
       "  <tbody>\n",
       "    <tr>\n",
       "      <th>0</th>\n",
       "      <td>USC00516128</td>\n",
       "      <td>MANOA LYON ARBO 785.2, HI US</td>\n",
       "      <td>21.33310</td>\n",
       "      <td>-157.80250</td>\n",
       "      <td>152.4</td>\n",
       "      <td>15.01</td>\n",
       "    </tr>\n",
       "    <tr>\n",
       "      <th>1</th>\n",
       "      <td>USC00519281</td>\n",
       "      <td>WAIHEE 837.5, HI US</td>\n",
       "      <td>21.45167</td>\n",
       "      <td>-157.84889</td>\n",
       "      <td>32.9</td>\n",
       "      <td>4.42</td>\n",
       "    </tr>\n",
       "    <tr>\n",
       "      <th>2</th>\n",
       "      <td>USC00514830</td>\n",
       "      <td>KUALOA RANCH HEADQUARTERS 886.9, HI US</td>\n",
       "      <td>21.52130</td>\n",
       "      <td>-157.83740</td>\n",
       "      <td>7.0</td>\n",
       "      <td>2.59</td>\n",
       "    </tr>\n",
       "    <tr>\n",
       "      <th>3</th>\n",
       "      <td>USC00519523</td>\n",
       "      <td>WAIMANALO EXPERIMENTAL FARM, HI US</td>\n",
       "      <td>21.33556</td>\n",
       "      <td>-157.71139</td>\n",
       "      <td>19.5</td>\n",
       "      <td>2.47</td>\n",
       "    </tr>\n",
       "    <tr>\n",
       "      <th>4</th>\n",
       "      <td>USC00519397</td>\n",
       "      <td>WAIKIKI 717.2, HI US</td>\n",
       "      <td>21.27160</td>\n",
       "      <td>-157.81680</td>\n",
       "      <td>3.0</td>\n",
       "      <td>1.90</td>\n",
       "    </tr>\n",
       "    <tr>\n",
       "      <th>5</th>\n",
       "      <td>USC00513117</td>\n",
       "      <td>KANEOHE 838.1, HI US</td>\n",
       "      <td>21.42340</td>\n",
       "      <td>-157.80150</td>\n",
       "      <td>14.6</td>\n",
       "      <td>1.64</td>\n",
       "    </tr>\n",
       "    <tr>\n",
       "      <th>6</th>\n",
       "      <td>USC00517948</td>\n",
       "      <td>PEARL CITY, HI US</td>\n",
       "      <td>21.39340</td>\n",
       "      <td>-157.97510</td>\n",
       "      <td>11.9</td>\n",
       "      <td>0.00</td>\n",
       "    </tr>\n",
       "  </tbody>\n",
       "</table>\n",
       "</div>"
      ],
      "text/plain": [
       "       Station                            Station Name       Lat        Lon  \\\n",
       "0  USC00516128            MANOA LYON ARBO 785.2, HI US  21.33310 -157.80250   \n",
       "1  USC00519281                     WAIHEE 837.5, HI US  21.45167 -157.84889   \n",
       "2  USC00514830  KUALOA RANCH HEADQUARTERS 886.9, HI US  21.52130 -157.83740   \n",
       "3  USC00519523      WAIMANALO EXPERIMENTAL FARM, HI US  21.33556 -157.71139   \n",
       "4  USC00519397                    WAIKIKI 717.2, HI US  21.27160 -157.81680   \n",
       "5  USC00513117                    KANEOHE 838.1, HI US  21.42340 -157.80150   \n",
       "6  USC00517948                       PEARL CITY, HI US  21.39340 -157.97510   \n",
       "\n",
       "     Elv  Total Prcp  \n",
       "0  152.4       15.01  \n",
       "1   32.9        4.42  \n",
       "2    7.0        2.59  \n",
       "3   19.5        2.47  \n",
       "4    3.0        1.90  \n",
       "5   14.6        1.64  \n",
       "6   11.9        0.00  "
      ]
     },
     "execution_count": 26,
     "metadata": {},
     "output_type": "execute_result"
    }
   ],
   "source": [
    "\n",
    "# Calculate the total amount of rainfall per weather station for your trip dates \n",
    "# using the previous year's matching dates.\n",
    "# Sort this in descending order by precipitation amount \n",
    "# and list the station, name, latitude, longitude, and elevation\n",
    "\n",
    "# Query the total historical rainfall experienced during vacation days\n",
    "# as measured by every weather station\n",
    "rainfall = (\n",
    "            session\n",
    "            .query(Measurement.station, \n",
    "                   Station.name, \n",
    "                   Station.latitude,\n",
    "                   Station.longitude,\n",
    "                   Station.elevation,\n",
    "                   func.sum(Measurement.prcp))\n",
    "            .join(Station, Measurement.station == Station.station)\n",
    "            .filter(Measurement.date >= prevYearStart)\n",
    "            .filter(Measurement.date <= prevYearEnd)\n",
    "            .group_by(Measurement.station)\n",
    "            .order_by(func.sum(Measurement.prcp).desc())\n",
    "            .all()\n",
    "            )\n",
    "\n",
    "# Convert query into dataframe\n",
    "rainfall_df = pd.DataFrame(rainfall,columns=[\"Station\",\"Station Name\",\"Lat\",\"Lon\",\"Elv\",\"Total Prcp\"])  \n",
    "\n",
    "# Display dataframe\n",
    "rainfall_df"
   ]
  },
  {
   "cell_type": "code",
   "execution_count": 27,
   "metadata": {},
   "outputs": [
    {
     "data": {
      "text/plain": [
       "[(62.0, 69.15384615384616, 77.0)]"
      ]
     },
     "execution_count": 27,
     "metadata": {},
     "output_type": "execute_result"
    }
   ],
   "source": [
    "# Create a query that will calculate the daily normals \n",
    "# (i.e. the averages for tmin, tmax, and tavg for all historic data matching a specific month and day)\n",
    "def daily_normals(date):\n",
    "    \"\"\"Daily Normals.\n",
    "    Args:\n",
    "        date (str): A date string in the format '%m-%d'\n",
    "    Returns:\n",
    "        A list of tuples containing the daily normals, tmin, tavg, and tmax\n",
    "    \"\"\"\n",
    "    \n",
    "    sel = [func.min(Measurement.tobs), func.avg(Measurement.tobs), func.max(Measurement.tobs)]\n",
    "    \n",
    "    return session.query(*sel).filter(func.strftime(\"%m-%d\", Measurement.date) == date).all()\n",
    "    \n",
    "daily_normals(\"01-01\")"
   ]
  },
  {
   "cell_type": "code",
   "execution_count": 28,
   "metadata": {},
   "outputs": [],
   "source": [
    "vDays = (prevYearEnd - prevYearStart) + dt.timedelta(days=1)\n",
    "\n",
    "delta_t = np.arange(1,vDays.days)\n",
    "dates = [trip_startDate_f.strftime('%Y-%m-%d')]\n",
    "for d in delta_t:\n",
    "    dates.append((trip_startDate_f + dt.timedelta(days=int(d))).strftime('%Y-%m-%d'))\n",
    "\n",
    "normals = []\n",
    "for date in dates:\n",
    "    # Strip off the year and save a list of %m-%d strings\n",
    "    timestring = date[-5:]\n",
    "    temp = daily_normals(timestring)\n",
    "    normals.append([temp [0][0],temp [0][1],temp [0][2]])  \n",
    "    \n",
    "\n"
   ]
  },
  {
   "cell_type": "code",
   "execution_count": 29,
   "metadata": {},
   "outputs": [],
   "source": [
    "# Load the previous query results into a Pandas DataFrame and add the `trip_dates` range as the `date` index\n",
    "normals_df = pd.DataFrame(normals, columns = [\"tmin\",\"tavg\",\"tmax\"])\n",
    "dates_df = pd.DataFrame(dates, columns = [\"date\"])\n",
    "\n",
    "# Concatenate date and normals dataframes\n",
    "trip_df = pd.concat([dates_df,normals_df], axis=1).set_index('date')\n",
    "trip_df.index = trip_df.index.map(str)"
   ]
  },
  {
   "cell_type": "code",
   "execution_count": 30,
   "metadata": {},
   "outputs": [
    {
     "data": {
      "image/png": "[encoded data removed]",
      "text/plain": [
       "<Figure size 1080x360 with 1 Axes>"
      ]
     },
     "metadata": {},
     "output_type": "display_data"
    },
    {
     "data": {
      "text/plain": [
       "<Figure size 432x288 with 0 Axes>"
      ]
     },
     "metadata": {},
     "output_type": "display_data"
    }
   ],
   "source": [
    "# Plot the daily normals as an area plot with `stacked=False`\n",
    "(\n",
    "    trip_df\n",
    "    .plot\n",
    "    .area(stacked=False,\n",
    "          figsize=(15,5),\n",
    "          alpha = 0.3)\n",
    ")\n",
    "\n",
    "# Format plot\n",
    "plt.title(f\"Daily Normal Temperatures\\n {dates[0]} to {dates[len(dates)-1]}\",fontweight=\"light\")\n",
    "plt.xticks(rotation = 50)\n",
    "plt.xlabel(\"\")\n",
    "plt.ylabel(\"temperature\")\n",
    "plt.ylim(50,80)\n",
    "plt.legend(loc=\"right\")\n",
    "# Display the plot\n",
    "plt.show()\n",
    "plt.savefig(\"Daily Normal Temperatures.png\")"
   ]
  },
  {
   "cell_type": "code",
   "execution_count": null,
   "metadata": {},
   "outputs": [],
   "source": []
  }
 ],
 "metadata": {
  "kernel_info": {
   "name": "python3"
  },
  "kernelspec": {
   "display_name": "Python 3",
   "language": "python",
   "name": "python3"
  },
  "language_info": {
   "codemirror_mode": {
    "name": "ipython",
    "version": 3
   },
   "file_extension": ".py",
   "mimetype": "text/x-python",
   "name": "python",
   "nbconvert_exporter": "python",
   "pygments_lexer": "ipython3",
   "version": "3.7.6"
  },
  "nteract": {
   "version": "0.12.3"
  },
  "varInspector": {
   "cols": {
    "lenName": 16,
    "lenType": 16,
    "lenVar": 40
   },
   "kernels_config": {
    "python": {
     "delete_cmd_postfix": "",
     "delete_cmd_prefix": "del ",
     "library": "var_list.py",
     "varRefreshCmd": "print(var_dic_list())"
    },
    "r": {
     "delete_cmd_postfix": ") ",
     "delete_cmd_prefix": "rm(",
     "library": "var_list.r",
     "varRefreshCmd": "cat(var_dic_list()) "
    }
   },
   "types_to_exclude": [
    "module",
    "function",
    "builtin_function_or_method",
    "instance",
    "_Feature"
   ],
   "window_display": false
  }
 },
 "nbformat": 4,
 "nbformat_minor": 2
}
